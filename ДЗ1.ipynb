{
 "cells": [
  {
   "cell_type": "markdown",
   "metadata": {},
   "source": [
    "Задача 1\n",
    "\n",
    "На складе лежат разные фрукты в разном количестве. Нужно написать функцию, которая на вход принимает любое \n",
    "количество названий фруктов и их количество, а возвращает общее количество фруктов на складе."
   ]
  },
  {
   "cell_type": "code",
   "execution_count": 1,
   "metadata": {},
   "outputs": [
    {
     "data": {
      "text/plain": [
       "660"
      ]
     },
     "execution_count": 1,
     "metadata": {},
     "output_type": "execute_result"
    }
   ],
   "source": [
    "fruits = {'banana': 150, 'apples': 210, 'orange': 300}\n",
    "\n",
    "def price_sum(arg: dict): \n",
    "    sum = 0\n",
    "    for key, value in arg.items():\n",
    "        sum += value\n",
    "    return sum\n",
    "\n",
    "price_sum(fruits)"
   ]
  },
  {
   "cell_type": "markdown",
   "metadata": {},
   "source": [
    "Задача 2\n",
    "\n",
    "Дан список с затратами на рекламу. Но в данных есть ошибки, некоторые затраты имеют отрицательную величину. Удалите такие значения из списка и посчитайте суммарные затраты.\n",
    "\n",
    "[100, 125, -90, 345, 655, -1, 0, 200]\n",
    "\n",
    "Используйте list comprehensions\n"
   ]
  },
  {
   "cell_type": "code",
   "execution_count": 5,
   "metadata": {},
   "outputs": [
    {
     "name": "stdout",
     "output_type": "stream",
     "text": [
      "[100, 125, 345, 655, 0, 200]\n",
      "Суммарные затраты = 1425\n"
     ]
    }
   ],
   "source": [
    "paym_list = [100, 125, -90, 345, 655, -1, 0, 200]\n",
    "\n",
    "def sum(a: list):\n",
    "    s = 0\n",
    "    for rec in a:\n",
    "        s += rec\n",
    "    return s\n",
    "\n",
    "correct_list = [rec for rec in paym_list if rec >= 0]\n",
    "print(correct_list)\n",
    "\n",
    "total = sum(correct_list)\n",
    "print(f'Суммарные затраты = {total}')"
   ]
  },
  {
   "cell_type": "markdown",
   "metadata": {},
   "source": [
    "Задача 4\n",
    "\n",
    "Даны два списка.\n",
    "Дата покупки:\n",
    "\n",
    "['2021-09-14', '2021-12-15', '2021-09-08', '2021-12-05', '2021-10-09', '2021-09-30', '2021-12-22', '2021-11-29', '2021-12-24', '2021-11-26', '2021-10-27', '2021-12-18', '2021-11-09', '2021-11-23', '2021-09-27', \n",
    "'2021-10-02', '2021-12-27', '2021-09-20', '2021-12-13', '2021-11-01', '2021-11-09', '2021-12-06', '2021-12-08', '2021-10-09', '2021-10-31', '2021-09-30', '2021-11-09', '2021-12-13', '2021-10-26', '2021-12-09']\n",
    "\n",
    "Суммы покупок по датам:\n",
    "\n",
    "[1270, 8413, 9028, 3703, 5739, 4095, 295, 4944, 5723, 3701, 4471, 651, 7037, 4274, 6275, 4988, 6930, 2971, 6592, 2004, 2822, 519, 3406, 2732, 5015, 2008, 316, 6333, 5700, 2887]\n",
    "\n",
    "4.1 Найдите, какая выручка у компании в ноябре.\n",
    "Используйте list comprehensions\n",
    "\n",
    "4.2 Найдите выручку компании в зависимости от месяца\n",
    "Для этого напишите функцию, которая на вход принимает список с датами и список с выручкой, а на выходе словарь, где ключи - это месяцы, а значения - это выручка.\n",
    "Используйте аннотирование типов.\n"
   ]
  },
  {
   "cell_type": "code",
   "execution_count": 38,
   "metadata": {},
   "outputs": [
    {
     "name": "stdout",
     "output_type": "stream",
     "text": [
      "Выручка компании в ноябре: 25098\n"
     ]
    }
   ],
   "source": [
    "dates_list = ['2021-09-14', '2021-12-15', '2021-09-08', '2021-12-05', '2021-10-09', '2021-09-30', '2021-12-22', '2021-11-29', '2021-12-24', '2021-11-26', '2021-10-27', '2021-12-18', '2021-11-09', '2021-11-23', '2021-09-27', '2021-10-02', '2021-12-27', '2021-09-20', '2021-12-13', '2021-11-01', '2021-11-09', '2021-12-06', '2021-12-08', '2021-10-09', '2021-10-31', '2021-09-30', '2021-11-09', '2021-12-13', '2021-10-26', '2021-12-09']\n",
    "gross_list = [1270, 8413, 9028, 3703, 5739, 4095, 295, 4944, 5723, 3701, 4471, 651, 7037, 4274, 6275, 4988, 6930, 2971, 6592, 2004, 2822, 519, 3406, 2732, 5015, 2008, 316, 6333, 5700, 2887]\n",
    "\n",
    "# 4.1 Решение\n",
    "def gross_sum(d_list, s_list: list, month: str):  \n",
    "    sum = 0      \n",
    "    index_list = [i for i in range(len(d_list)) if d_list[i][5:7] == month]    \n",
    "    for i in index_list:        \n",
    "        sum += s_list[i]\n",
    "    return sum\n",
    "\n",
    "print(f\"Выручка компании в ноябре: {gross_sum(dates_list, gross_list, '11')}\")"
   ]
  },
  {
   "cell_type": "code",
   "execution_count": 39,
   "metadata": {},
   "outputs": [
    {
     "name": "stdout",
     "output_type": "stream",
     "text": [
      "Выручка компании по-месячно: {'10': 28645, '09': 25647, '11': 25098, '12': 45452}\n"
     ]
    }
   ],
   "source": [
    "# 4.2 Решение\n",
    "\n",
    "def sum_by_month(list_dates, list_sums: list)-> dict:\n",
    "    result = {}\n",
    "    # определим, какие месяцы присутствуют в списке\n",
    "    m_list = [rec[5:7] for rec in list_dates]\n",
    "    m_set = set(m_list)    \n",
    "\n",
    "    # сделаем суммирование по каждому месяцу и положим в словарь\n",
    "    for month in m_set:\n",
    "        sum = 0\n",
    "\n",
    "        for i in range(len(list_dates)):\n",
    "            if list_dates[i][5:7] == month:                \n",
    "                sum += list_sums[i]         \n",
    "        \n",
    "        result.update({month: sum})\n",
    "\n",
    "    return result\n",
    "\n",
    "print(f\"Выручка компании по-месячно: {sum_by_month(dates_list, gross_list)}\")"
   ]
  }
 ],
 "metadata": {
  "kernelspec": {
   "display_name": "gb-python",
   "language": "python",
   "name": "python3"
  },
  "language_info": {
   "codemirror_mode": {
    "name": "ipython",
    "version": 3
   },
   "file_extension": ".py",
   "mimetype": "text/x-python",
   "name": "python",
   "nbconvert_exporter": "python",
   "pygments_lexer": "ipython3",
   "version": "3.10.6"
  },
  "orig_nbformat": 4
 },
 "nbformat": 4,
 "nbformat_minor": 2
}
